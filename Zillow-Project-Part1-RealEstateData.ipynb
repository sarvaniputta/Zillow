{
 "cells": [
  {
   "cell_type": "code",
   "execution_count": 1,
   "metadata": {},
   "outputs": [],
   "source": [
    "import pandas as pd\n",
    "import matplotlib.pyplot as plt\n",
    "import bqplot as bq\n",
    "import matplotlib as mpl\n",
    "import ipywidgets\n",
    "%matplotlib inline"
   ]
  },
  {
   "cell_type": "markdown",
   "metadata": {},
   "source": [
    "We are considering data on regional real estate listing prices from Zillow. The data was\n",
    "acquired from [Zillow.com/data](https://zillow.com/data) on (2019-03-30). Zillow holds the copyrights on the aggregated data and makes this aggregated data available freely for non-commercial use. Of the data, we are utilizing state and city level time series of single family residence listing prices. The data contains the median listing price collected every month across states and cities. The data comprises of several csv files and a data dictionary. We utilize the state level data which has around 13000 rows and 82 columns. The city level data comprises of 3.7 million rows and 85 columns. To avoid memory issues, we subset this analysis to Illinois only."
   ]
  },
  {
   "cell_type": "markdown",
   "metadata": {},
   "source": [
    "We begin by considering which month of the year is suitable for listing/buying a house. We consider the median prices of houses per month of year and try to see if there are any trends.  We are doing this on a state by state basis as a first pass."
   ]
  },
  {
   "cell_type": "code",
   "execution_count": 2,
   "metadata": {},
   "outputs": [],
   "source": [
    "states = pd.read_csv(\"State_time_series.csv\")"
   ]
  },
  {
   "cell_type": "code",
   "execution_count": 3,
   "metadata": {},
   "outputs": [
    {
     "data": {
      "text/html": [
       "<div>\n",
       "<style scoped>\n",
       "    .dataframe tbody tr th:only-of-type {\n",
       "        vertical-align: middle;\n",
       "    }\n",
       "\n",
       "    .dataframe tbody tr th {\n",
       "        vertical-align: top;\n",
       "    }\n",
       "\n",
       "    .dataframe thead th {\n",
       "        text-align: right;\n",
       "    }\n",
       "</style>\n",
       "<table border=\"1\" class=\"dataframe\">\n",
       "  <thead>\n",
       "    <tr style=\"text-align: right;\">\n",
       "      <th></th>\n",
       "      <th>Date</th>\n",
       "      <th>RegionName</th>\n",
       "      <th>DaysOnZillow_AllHomes</th>\n",
       "      <th>InventorySeasonallyAdjusted_AllHomes</th>\n",
       "      <th>InventoryRaw_AllHomes</th>\n",
       "      <th>MedianListingPricePerSqft_1Bedroom</th>\n",
       "      <th>MedianListingPricePerSqft_2Bedroom</th>\n",
       "      <th>MedianListingPricePerSqft_3Bedroom</th>\n",
       "      <th>MedianListingPricePerSqft_4Bedroom</th>\n",
       "      <th>MedianListingPricePerSqft_5BedroomOrMore</th>\n",
       "      <th>...</th>\n",
       "      <th>ZHVI_BottomTier</th>\n",
       "      <th>ZHVI_CondoCoop</th>\n",
       "      <th>ZHVI_MiddleTier</th>\n",
       "      <th>ZHVI_SingleFamilyResidence</th>\n",
       "      <th>ZHVI_TopTier</th>\n",
       "      <th>ZRI_AllHomes</th>\n",
       "      <th>ZRI_AllHomesPlusMultifamily</th>\n",
       "      <th>ZriPerSqft_AllHomes</th>\n",
       "      <th>Zri_MultiFamilyResidenceRental</th>\n",
       "      <th>Zri_SingleFamilyResidenceRental</th>\n",
       "    </tr>\n",
       "  </thead>\n",
       "  <tbody>\n",
       "    <tr>\n",
       "      <th>0</th>\n",
       "      <td>1996-04-30</td>\n",
       "      <td>Alabama</td>\n",
       "      <td>NaN</td>\n",
       "      <td>NaN</td>\n",
       "      <td>NaN</td>\n",
       "      <td>NaN</td>\n",
       "      <td>NaN</td>\n",
       "      <td>NaN</td>\n",
       "      <td>NaN</td>\n",
       "      <td>NaN</td>\n",
       "      <td>...</td>\n",
       "      <td>45600.0</td>\n",
       "      <td>99500.0</td>\n",
       "      <td>79500.0</td>\n",
       "      <td>79000.0</td>\n",
       "      <td>140200.0</td>\n",
       "      <td>NaN</td>\n",
       "      <td>NaN</td>\n",
       "      <td>NaN</td>\n",
       "      <td>NaN</td>\n",
       "      <td>NaN</td>\n",
       "    </tr>\n",
       "    <tr>\n",
       "      <th>1</th>\n",
       "      <td>1996-04-30</td>\n",
       "      <td>Arizona</td>\n",
       "      <td>NaN</td>\n",
       "      <td>NaN</td>\n",
       "      <td>NaN</td>\n",
       "      <td>NaN</td>\n",
       "      <td>NaN</td>\n",
       "      <td>NaN</td>\n",
       "      <td>NaN</td>\n",
       "      <td>NaN</td>\n",
       "      <td>...</td>\n",
       "      <td>67100.0</td>\n",
       "      <td>78900.0</td>\n",
       "      <td>103600.0</td>\n",
       "      <td>107500.0</td>\n",
       "      <td>168700.0</td>\n",
       "      <td>NaN</td>\n",
       "      <td>NaN</td>\n",
       "      <td>NaN</td>\n",
       "      <td>NaN</td>\n",
       "      <td>NaN</td>\n",
       "    </tr>\n",
       "    <tr>\n",
       "      <th>2</th>\n",
       "      <td>1996-04-30</td>\n",
       "      <td>Arkansas</td>\n",
       "      <td>NaN</td>\n",
       "      <td>NaN</td>\n",
       "      <td>NaN</td>\n",
       "      <td>NaN</td>\n",
       "      <td>NaN</td>\n",
       "      <td>NaN</td>\n",
       "      <td>NaN</td>\n",
       "      <td>NaN</td>\n",
       "      <td>...</td>\n",
       "      <td>38400.0</td>\n",
       "      <td>70300.0</td>\n",
       "      <td>64400.0</td>\n",
       "      <td>64500.0</td>\n",
       "      <td>115200.0</td>\n",
       "      <td>NaN</td>\n",
       "      <td>NaN</td>\n",
       "      <td>NaN</td>\n",
       "      <td>NaN</td>\n",
       "      <td>NaN</td>\n",
       "    </tr>\n",
       "    <tr>\n",
       "      <th>3</th>\n",
       "      <td>1996-04-30</td>\n",
       "      <td>California</td>\n",
       "      <td>NaN</td>\n",
       "      <td>NaN</td>\n",
       "      <td>NaN</td>\n",
       "      <td>NaN</td>\n",
       "      <td>NaN</td>\n",
       "      <td>NaN</td>\n",
       "      <td>NaN</td>\n",
       "      <td>NaN</td>\n",
       "      <td>...</td>\n",
       "      <td>95100.0</td>\n",
       "      <td>136100.0</td>\n",
       "      <td>157900.0</td>\n",
       "      <td>162000.0</td>\n",
       "      <td>270600.0</td>\n",
       "      <td>NaN</td>\n",
       "      <td>NaN</td>\n",
       "      <td>NaN</td>\n",
       "      <td>NaN</td>\n",
       "      <td>NaN</td>\n",
       "    </tr>\n",
       "    <tr>\n",
       "      <th>4</th>\n",
       "      <td>1996-04-30</td>\n",
       "      <td>Colorado</td>\n",
       "      <td>NaN</td>\n",
       "      <td>NaN</td>\n",
       "      <td>NaN</td>\n",
       "      <td>NaN</td>\n",
       "      <td>NaN</td>\n",
       "      <td>NaN</td>\n",
       "      <td>NaN</td>\n",
       "      <td>NaN</td>\n",
       "      <td>...</td>\n",
       "      <td>82700.0</td>\n",
       "      <td>99400.0</td>\n",
       "      <td>128100.0</td>\n",
       "      <td>133600.0</td>\n",
       "      <td>209300.0</td>\n",
       "      <td>NaN</td>\n",
       "      <td>NaN</td>\n",
       "      <td>NaN</td>\n",
       "      <td>NaN</td>\n",
       "      <td>NaN</td>\n",
       "    </tr>\n",
       "  </tbody>\n",
       "</table>\n",
       "<p>5 rows × 82 columns</p>\n",
       "</div>"
      ],
      "text/plain": [
       "         Date  RegionName  DaysOnZillow_AllHomes  \\\n",
       "0  1996-04-30     Alabama                    NaN   \n",
       "1  1996-04-30     Arizona                    NaN   \n",
       "2  1996-04-30    Arkansas                    NaN   \n",
       "3  1996-04-30  California                    NaN   \n",
       "4  1996-04-30    Colorado                    NaN   \n",
       "\n",
       "   InventorySeasonallyAdjusted_AllHomes  InventoryRaw_AllHomes  \\\n",
       "0                                   NaN                    NaN   \n",
       "1                                   NaN                    NaN   \n",
       "2                                   NaN                    NaN   \n",
       "3                                   NaN                    NaN   \n",
       "4                                   NaN                    NaN   \n",
       "\n",
       "   MedianListingPricePerSqft_1Bedroom  MedianListingPricePerSqft_2Bedroom  \\\n",
       "0                                 NaN                                 NaN   \n",
       "1                                 NaN                                 NaN   \n",
       "2                                 NaN                                 NaN   \n",
       "3                                 NaN                                 NaN   \n",
       "4                                 NaN                                 NaN   \n",
       "\n",
       "   MedianListingPricePerSqft_3Bedroom  MedianListingPricePerSqft_4Bedroom  \\\n",
       "0                                 NaN                                 NaN   \n",
       "1                                 NaN                                 NaN   \n",
       "2                                 NaN                                 NaN   \n",
       "3                                 NaN                                 NaN   \n",
       "4                                 NaN                                 NaN   \n",
       "\n",
       "   MedianListingPricePerSqft_5BedroomOrMore  ...  ZHVI_BottomTier  \\\n",
       "0                                       NaN  ...          45600.0   \n",
       "1                                       NaN  ...          67100.0   \n",
       "2                                       NaN  ...          38400.0   \n",
       "3                                       NaN  ...          95100.0   \n",
       "4                                       NaN  ...          82700.0   \n",
       "\n",
       "   ZHVI_CondoCoop  ZHVI_MiddleTier  ZHVI_SingleFamilyResidence  ZHVI_TopTier  \\\n",
       "0         99500.0          79500.0                     79000.0      140200.0   \n",
       "1         78900.0         103600.0                    107500.0      168700.0   \n",
       "2         70300.0          64400.0                     64500.0      115200.0   \n",
       "3        136100.0         157900.0                    162000.0      270600.0   \n",
       "4         99400.0         128100.0                    133600.0      209300.0   \n",
       "\n",
       "   ZRI_AllHomes  ZRI_AllHomesPlusMultifamily  ZriPerSqft_AllHomes  \\\n",
       "0           NaN                          NaN                  NaN   \n",
       "1           NaN                          NaN                  NaN   \n",
       "2           NaN                          NaN                  NaN   \n",
       "3           NaN                          NaN                  NaN   \n",
       "4           NaN                          NaN                  NaN   \n",
       "\n",
       "   Zri_MultiFamilyResidenceRental  Zri_SingleFamilyResidenceRental  \n",
       "0                             NaN                              NaN  \n",
       "1                             NaN                              NaN  \n",
       "2                             NaN                              NaN  \n",
       "3                             NaN                              NaN  \n",
       "4                             NaN                              NaN  \n",
       "\n",
       "[5 rows x 82 columns]"
      ]
     },
     "execution_count": 3,
     "metadata": {},
     "output_type": "execute_result"
    }
   ],
   "source": [
    "states.head()"
   ]
  },
  {
   "cell_type": "markdown",
   "metadata": {},
   "source": [
    "Converting the date to a datetime for ease of analysis"
   ]
  },
  {
   "cell_type": "code",
   "execution_count": 4,
   "metadata": {},
   "outputs": [],
   "source": [
    "states.Date = pd.to_datetime(states.Date)"
   ]
  },
  {
   "cell_type": "code",
   "execution_count": 5,
   "metadata": {},
   "outputs": [],
   "source": [
    "sc_x1 = bq.OrdinalScale()\n",
    "sc_y1 = bq.LinearScale()\n",
    "ax_x1 = bq.Axis(label='Month of year', scale=sc_x1)\n",
    "ax_y1 = bq.Axis(label='Median price', scale=sc_y1, orientation='vertical')\n",
    "\n",
    "month_names = ['Jan', 'Feb', 'Mar', 'Apr', 'May', 'Jun',\n",
    "               'Jul', 'Aug', 'Sep', 'Oct', 'Nov', 'Dec']\n",
    "y = []\n",
    "for month in range(1, 13):\n",
    "    y.append(list(states\n",
    "                  .MedianListingPrice_SingleFamilyResidence\n",
    "                  .groupby(states.Date.dt.month)\n",
    "                  .get_group(month)\n",
    "                  .dropna()))\n",
    "    \n",
    "boxes = bq.Boxplot(x=month_names, y=y,\n",
    "                   scales={'x': sc_x1, 'y': sc_y1},\n",
    "                   box_fill_color='orange',\n",
    "                   stroke ='green',\n",
    "                   outlier_fill_color='blue')\n",
    "\n",
    "fig1 = bq.Figure(axes=[ax_x1, ax_y1], marks=[boxes])"
   ]
  },
  {
   "cell_type": "code",
   "execution_count": 6,
   "metadata": {},
   "outputs": [],
   "source": [
    "state_select1 = ipywidgets.Dropdown(options= ['All'] + list(states.RegionName.unique()),\n",
    "                                    value='All',\n",
    "                                    description='State')"
   ]
  },
  {
   "cell_type": "code",
   "execution_count": 7,
   "metadata": {},
   "outputs": [],
   "source": [
    "def on_change(change):\n",
    "    acc = []\n",
    "    state = state_select1.value\n",
    "    filter_ = pd.Series(True, index=states.index) # select all rows\n",
    "    if state != 'All':\n",
    "        filter_ = filter_ & (states['RegionName']==state)   \n",
    "    df = states.loc[filter_]\n",
    "    grpd = df.MedianListingPrice_SingleFamilyResidence.groupby(df.Date.dt.month)\n",
    "\n",
    "    for month in range(1, 13):\n",
    "        acc.append(list(grpd.get_group(month).dropna().values))\n",
    "    boxes.y = acc\n",
    "          \n",
    "        \n",
    "state_select1.observe(on_change, 'value')\n"
   ]
  },
  {
   "cell_type": "code",
   "execution_count": 8,
   "metadata": {},
   "outputs": [
    {
     "data": {
      "application/vnd.jupyter.widget-view+json": {
       "model_id": "c3aec91c00ed4202b4fd2327b230e047",
       "version_major": 2,
       "version_minor": 0
      },
      "text/plain": [
       "VBox(children=(HBox(children=(Dropdown(description='State', options=('All', 'Alabama', 'Arizona', 'Arkansas', …"
      ]
     },
     "metadata": {},
     "output_type": "display_data"
    }
   ],
   "source": [
    "ipywidgets.VBox([ipywidgets.HBox([state_select1]), fig1])"
   ]
  },
  {
   "cell_type": "markdown",
   "metadata": {},
   "source": [
    "OK, so the answer to our question of best month for selling seems to vary by state. Overall May seems to be a good bet for sellers and January for buyers."
   ]
  },
  {
   "cell_type": "markdown",
   "metadata": {},
   "source": [
    "Diving deeper into city level, we can see how the timeseries for home prices varies across time. For memory reasons, we filter thecities to Illinois only."
   ]
  },
  {
   "cell_type": "code",
   "execution_count": 9,
   "metadata": {},
   "outputs": [],
   "source": [
    "# cols = ['Date', 'RegionName', 'MedianListingPrice_SingleFamilyResidence']\n",
    "# city = pd.read_csv('City_time_series.csv', usecols = cols)"
   ]
  },
  {
   "cell_type": "code",
   "execution_count": 10,
   "metadata": {},
   "outputs": [],
   "source": [
    "# city.memory_usage()"
   ]
  },
  {
   "cell_type": "code",
   "execution_count": 11,
   "metadata": {},
   "outputs": [],
   "source": [
    "# crosswalk = pd.read_csv('cities_crosswalk.csv')"
   ]
  },
  {
   "cell_type": "code",
   "execution_count": 12,
   "metadata": {},
   "outputs": [],
   "source": [
    "# city = city.merge(crosswalk, left_on=['RegionName'], right_on=['Unique_City_ID']).drop(columns=['Unique_City_ID'])"
   ]
  },
  {
   "cell_type": "code",
   "execution_count": 13,
   "metadata": {},
   "outputs": [],
   "source": [
    "# city.to_csv('city_sfrlist_ts.csv', index = False)"
   ]
  },
  {
   "cell_type": "code",
   "execution_count": 14,
   "metadata": {},
   "outputs": [],
   "source": [
    "city = pd.read_csv('city_sfrlist_ts.csv')"
   ]
  },
  {
   "cell_type": "markdown",
   "metadata": {},
   "source": [
    "Filter for IL only"
   ]
  },
  {
   "cell_type": "code",
   "execution_count": 15,
   "metadata": {},
   "outputs": [],
   "source": [
    "city = city.loc[city.State=='IL'].copy()"
   ]
  },
  {
   "cell_type": "code",
   "execution_count": 16,
   "metadata": {},
   "outputs": [],
   "source": [
    "city.Date = pd.to_datetime(city.Date)"
   ]
  },
  {
   "cell_type": "code",
   "execution_count": 17,
   "metadata": {},
   "outputs": [],
   "source": [
    "grpd = city.groupby(['RegionName', city.Date.dt.year])\n",
    "\n",
    "city_median_lp_year= grpd.agg({\n",
    "    'MedianListingPrice_SingleFamilyResidence':pd.Series.median,\n",
    "    'City':lambda x: x.iloc[0],\n",
    "    'County': lambda x: x.iloc[0],\n",
    "    'State': lambda x: x.iloc[0]\n",
    "         })"
   ]
  },
  {
   "cell_type": "code",
   "execution_count": 18,
   "metadata": {},
   "outputs": [],
   "source": [
    "city_median_lp_year.reset_index(inplace=True)"
   ]
  },
  {
   "cell_type": "code",
   "execution_count": 19,
   "metadata": {},
   "outputs": [],
   "source": [
    "sc_x2 = bq.OrdinalScale()\n",
    "sc_y2 = bq.LinearScale()\n",
    "ax_x2 = bq.Axis(label='Year', scale=sc_x2, tick_rotate=90)\n",
    "ax_y2 = bq.Axis(label='Median price', scale=sc_y2,\n",
    "                orientation='vertical', label_offset='3.5em')\n",
    "\n",
    "\n",
    "lines = bq.Lines(x=city_median_lp_year.loc[city_median_lp_year.City=='Champaign'].Date,\n",
    "                 y = city_median_lp_year.loc[city_median_lp_year.City=='Champaign'].MedianListingPrice_SingleFamilyResidence,\n",
    "                 scales={'x': sc_x2, 'y': sc_y2}, \n",
    "                 markers = 'circle',\n",
    "                 )\n",
    "\n",
    "fig2 = bq.Figure(axes=[ax_x2, ax_y2], marks=[lines])"
   ]
  },
  {
   "cell_type": "code",
   "execution_count": 20,
   "metadata": {},
   "outputs": [],
   "source": [
    "# h = city_median_lp_year.head()"
   ]
  },
  {
   "cell_type": "code",
   "execution_count": 21,
   "metadata": {},
   "outputs": [],
   "source": [
    "cities = (city_median_lp_year.dropna(subset=['MedianListingPrice_SingleFamilyResidence'], axis=0)\n",
    "          .groupby('RegionName')\n",
    "          .City\n",
    "          .first()\n",
    "          .values)"
   ]
  },
  {
   "cell_type": "code",
   "execution_count": 22,
   "metadata": {},
   "outputs": [],
   "source": [
    "city_dropdown = ipywidgets.Dropdown(options=[_ + ', IL' for _ in cities],\n",
    "                                    value='Champaign, IL',\n",
    "                                    description='City' )"
   ]
  },
  {
   "cell_type": "code",
   "execution_count": 23,
   "metadata": {},
   "outputs": [],
   "source": [
    "def on_change(change):\n",
    "    city_state = city_dropdown.value #Urbana, IL\n",
    "    city, state = city_state.split(', ')\n",
    "    filter_ = ((city_median_lp_year.City==city)& (city_median_lp_year.State == state)\n",
    "                &(city_median_lp_year.MedianListingPrice_SingleFamilyResidence.notnull()))\n",
    "    x = city_median_lp_year.loc[filter_,'Date']\n",
    "    y = city_median_lp_year.loc[filter_, 'MedianListingPrice_SingleFamilyResidence']\n",
    "    lines.x = x\n",
    "    lines.y = y\n",
    "\n",
    "city_dropdown.observe(on_change, 'value')\n"
   ]
  },
  {
   "cell_type": "code",
   "execution_count": 24,
   "metadata": {},
   "outputs": [
    {
     "data": {
      "application/vnd.jupyter.widget-view+json": {
       "model_id": "c4ce8c899b9a40a7b9d6b429ec74412b",
       "version_major": 2,
       "version_minor": 0
      },
      "text/plain": [
       "VBox(children=(Dropdown(description='City', index=44, options=('Addison, IL', 'Algonquin, IL', 'Alsip, IL', 'A…"
      ]
     },
     "metadata": {},
     "output_type": "display_data"
    }
   ],
   "source": [
    "ipywidgets.VBox([city_dropdown, fig2])"
   ]
  },
  {
   "cell_type": "markdown",
   "metadata": {},
   "source": [
    "This visualization shows that there is a dip in the home prices around 2012-2014. It would be interesting to correlation with the subprime mortagage crisis. "
   ]
  },
  {
   "cell_type": "markdown",
   "metadata": {},
   "source": [
    "For the third visualization, we explore how the median listing price varies across states across years. To do this on a map, we need to use bqplot Map marker. The Map marker can be colored by setting values for the state FIPS code and passing a dictionary."
   ]
  },
  {
   "cell_type": "code",
   "execution_count": 26,
   "metadata": {},
   "outputs": [],
   "source": [
    "# Get the FIPS Code and remove spaces from the state names to match what is in our dataset\n",
    "fips_codes = pd.read_csv('https://raw.githubusercontent.com/kjhealy/fips-codes/master/state_fips_master.csv')\n",
    "fips_codes.state_name = fips_codes.state_name.str.replace(' ','')\n",
    "fips_codes.set_index(\"state_name\", inplace=True)\n"
   ]
  },
  {
   "cell_type": "code",
   "execution_count": 27,
   "metadata": {},
   "outputs": [],
   "source": [
    "# group timeseries by state and year\n",
    "states_grouped = (states\n",
    "                  .groupby(['RegionName', states.Date.dt.year])\n",
    "                  .MedianListingPrice_SingleFamilyResidence\n",
    "                  .median()\n",
    "                  .dropna())\n",
    "\n",
    "# helper function for getting a dict to pass to bqplot\n",
    "def get_state_values(year=2017):\n",
    "    d = states_grouped.xs(key=year, level='Date').to_dict()\n",
    "    # convert state names in keys to FIPS codes\n",
    "    return {fips_codes.loc[state, 'fips']:value for state, value in d.items() if state in fips_codes.index}\n",
    "\n"
   ]
  },
  {
   "cell_type": "code",
   "execution_count": 36,
   "metadata": {},
   "outputs": [],
   "source": [
    "cscale = bq.ColorScale(scheme='plasma',\n",
    "                       min=100000,\n",
    "                       max=500000,\n",
    "                       reverse=True# reverse the colorscale or Hawaii is not visible\n",
    "                      )\n",
    "map_tt = bq.Tooltip(labels = ['State', 'Median List Price'], fields = ['name', 'color'])\n",
    "sc_geo = bq.AlbersUSA()\n",
    "states_map = bq.Map(color=get_state_values(year=2017),\n",
    "                    colors={'default_color':'black'},\n",
    "                    map_data=bq.topo_load('map_data/USStatesMap.json'),\n",
    "                    scales={'projection': sc_geo, 'color':cscale}, tooltip = map_tt)\n",
    "cax = bq.ColorAxis(scale=cscale, orientation='vertical', side='left', label='Listing Price')\n",
    "fig3 = bq.Figure(marks=[states_map], title='Median single family residence listing prices'\n",
    "                 , axes=[cax])\n"
   ]
  },
  {
   "cell_type": "code",
   "execution_count": 37,
   "metadata": {},
   "outputs": [],
   "source": [
    "#year_slider = ipywidgets.IntSlider(min=1996, max=2017, value=2017)\n",
    "# we do not have much data before 2010. \n",
    "year_slider = ipywidgets.IntSlider(min=2010, max=2017, value=2017)"
   ]
  },
  {
   "cell_type": "code",
   "execution_count": 38,
   "metadata": {},
   "outputs": [],
   "source": [
    "def on_change_year(value):\n",
    "    year = year_slider.value\n",
    "    try:\n",
    "        states_map.color = get_state_values(year=year)\n",
    "    except Exception:\n",
    "        return\n",
    "\n",
    "year_slider.observe(on_change_year, 'value')"
   ]
  },
  {
   "cell_type": "code",
   "execution_count": 39,
   "metadata": {},
   "outputs": [
    {
     "data": {
      "application/vnd.jupyter.widget-view+json": {
       "model_id": "f22c128cdc4c41939acee59531463d95",
       "version_major": 2,
       "version_minor": 0
      },
      "text/plain": [
       "VBox(children=(IntSlider(value=2017, max=2017, min=2010), Figure(axes=[ColorAxis(label='Listing Price', orient…"
      ]
     },
     "metadata": {},
     "output_type": "display_data"
    }
   ],
   "source": [
    "ipywidgets.VBox([year_slider, fig3])"
   ]
  },
  {
   "cell_type": "markdown",
   "metadata": {},
   "source": [
    "The dataset from Zillow allows us to see the evolution of the trajectories of the housing market across the United States. The data can be used to investigate a variety of questions such as when it makes sense to rent vs buy, the impact of the subprime mortgage crisis and how real estate fared as an investment. From the data, it is clear that the midwest typically has lower housing costs compared to the east and the west coasts. Also, each state has a different seasonal cycle of housing costs with Illinois having a predominant peak during the summer and states such as Delaware, Colorado having near uniform demand throughout the year. Several cites in Illinois experienced a dip in values during 2012-2014 which seems to coincide with the subprime mortagage crisis. A more thorough analysis would need to dive deeper into the county level and also see how rents have fared during the same period. "
   ]
  }
 ],
 "metadata": {
  "kernelspec": {
   "display_name": "Python 3",
   "language": "python",
   "name": "python3"
  },
  "language_info": {
   "codemirror_mode": {
    "name": "ipython",
    "version": 3
   },
   "file_extension": ".py",
   "mimetype": "text/x-python",
   "name": "python",
   "nbconvert_exporter": "python",
   "pygments_lexer": "ipython3",
   "version": "3.7.1"
  }
 },
 "nbformat": 4,
 "nbformat_minor": 2
}
